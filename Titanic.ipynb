{
 "cells": [
  {
   "cell_type": "code",
   "execution_count": 361,
   "metadata": {},
   "outputs": [],
   "source": [
    "import numpy as np\n",
    "import pandas as pd\n",
    "import os\n",
    "import seaborn as sns\n",
    "import matplotlib.pyplot as plt\n",
    "from sklearn.preprocessing import StandardScaler,LabelEncoder\n",
    "from sklearn.model_selection import train_test_split, cross_validate, GridSearchCV\n",
    "from sklearn.metrics import precision_recall_fscore_support, confusion_matrix, precision_score, recall_score, f1_score, accuracy_score\n",
    "from sklearn.linear_model import LogisticRegression\n",
    "from sklearn.neighbors import KNeighborsClassifier\n",
    "from sklearn.naive_bayes import MultinomialNB, GaussianNB, ComplementNB\n",
    "from sklearn.svm import SVC\n",
    "from sklearn.tree import DecisionTreeClassifier\n",
    "from sklearn.ensemble import GradientBoostingClassifier, RandomForestClassifier, AdaBoostClassifier"
   ]
  },
  {
   "cell_type": "code",
   "execution_count": 362,
   "metadata": {},
   "outputs": [],
   "source": [
    "def ml_fit_eval(X_train,y_train,X_test,y_test, model,parameters,modelname):\n",
    "    \n",
    "    sc = StandardScaler()\n",
    "    X_train = sc.fit_transform(X_train)\n",
    "    X_test = sc.transform(X_test)\n",
    "\n",
    "    model = GridSearchCV(model, parameters, cv=10,verbose=2)\n",
    "    model.fit(X_train, y_train)\n",
    "\n",
    "    y_pred = model.predict(X_test)\n",
    "\n",
    "    print(modelname ,'Optimal Parameters :       ', model.cv_results_ ['params'] [np.argmin(model.cv_results_['rank_test_score'])])\n",
    "    print(modelname ,'Cross Validation Accuracy: ', round(model.cv_results_ ['mean_test_score'] [np.argmin(model.cv_results_['rank_test_score'])]*100,2), '%', '\\n')\n",
    "\n",
    "    print(modelname ,'Accuracy:  ', round(accuracy_score(y_test, y_pred) * 100,4) , '%')\n",
    "    print(modelname ,'Precision: ', round(precision_score(y_test,y_pred) *100,4), '%')\n",
    "    print(modelname ,'Recall:    ', round(recall_score(y_test,y_pred) *100,4), '%')      \n",
    "    print(modelname ,'F1-Score:  ', round(f1_score(y_test,y_pred),4), '\\n')  \n",
    "\n",
    "    sns.heatmap(confusion_matrix(y_test,y_pred), annot=True, annot_kws={'fontsize':14,'fontweight':'bold'},fmt='d')\n",
    "    plt.title(modelname +' Confusion Matrix')\n",
    "    plt.xlabel('Prediction')\n",
    "    plt.ylabel('Reality')\n",
    "    plt.xticks([0.5,1.5], labels=['Dead', 'Survived'])\n",
    "    plt.yticks([0.5,1.5], labels=['Dead', 'Survived'], va='center')\n",
    "    plt.show()"
   ]
  },
  {
   "cell_type": "code",
   "execution_count": 363,
   "metadata": {},
   "outputs": [
    {
     "data": {
      "text/plain": [
       "'/Users/joaoeira/Downloads'"
      ]
     },
     "execution_count": 363,
     "metadata": {},
     "output_type": "execute_result"
    }
   ],
   "source": [
    "cwd = os.getcwd()\n",
    "cwd"
   ]
  },
  {
   "cell_type": "code",
   "execution_count": 364,
   "metadata": {},
   "outputs": [],
   "source": [
    "datadir = '../Documents/GitHub/kaggle-titanic/titanic/'\n",
    "\n",
    "trainpath = datadir + 'train.csv'\n",
    "testpath = datadir + 'test.csv'\n",
    "#fullpath = datadir + 'fullnamelist.csv'"
   ]
  },
  {
   "cell_type": "code",
   "execution_count": 365,
   "metadata": {},
   "outputs": [],
   "source": [
    "train = pd.read_csv(trainpath)\n",
    "test = pd.read_csv(testpath)"
   ]
  },
  {
   "cell_type": "code",
   "execution_count": 366,
   "metadata": {},
   "outputs": [],
   "source": [
    "train['Deck']=train.Cabin.str.slice(0, 1)\n",
    "train.loc[train.Deck.isna(),'Deck'] = 'U'"
   ]
  },
  {
   "cell_type": "raw",
   "metadata": {},
   "source": [
    "full_names = pd.read_csv(fullpath, sep = ';')\n",
    "full_names['Name'] = full_names.Surname + ', ' + full_names['First Names']"
   ]
  },
  {
   "cell_type": "raw",
   "metadata": {},
   "source": [
    "test = pd.merge(test_pre,full_names, on='Name', how='inner')\n",
    "test['Age'] = test.Age_x"
   ]
  },
  {
   "cell_type": "code",
   "execution_count": 367,
   "metadata": {},
   "outputs": [],
   "source": [
    "train.Sex = train.Sex.replace(['female','male'],[0,1])\n",
    "train.Embarked = train.Embarked.replace(['S','C','Q'],[0,1,2])\n",
    "train.Embarked = train.Embarked.fillna('S')\n",
    "train.Cabin.fillna('U', inplace=True)\n",
    "train['Deck'] = train.Cabin.str.slice(0,1)\n",
    "train.Deck = train.Deck.replace(['U','C','E','G','D','A','B','F','T'],[0,1,2,3,4,5,6,7,8])"
   ]
  },
  {
   "cell_type": "code",
   "execution_count": 368,
   "metadata": {},
   "outputs": [
    {
     "data": {
      "text/plain": [
       "array([0, 1, 2, 3, 4, 5, 6, 7, 8])"
      ]
     },
     "execution_count": 368,
     "metadata": {},
     "output_type": "execute_result"
    }
   ],
   "source": [
    "train.Deck.unique()"
   ]
  },
  {
   "cell_type": "code",
   "execution_count": 369,
   "metadata": {},
   "outputs": [],
   "source": [
    "titles = {\"Mr\": 1, \"Miss\": 2, \"Mrs\": 3, \"Master\": 4, \"Rare\": 5}\n",
    "\n",
    "train['Title'] = train.Name.str.extract(' ([A-Za-z]+)\\.', expand=False)\n",
    "train['Title'] = train['Title'].replace(['Lady', 'Countess','Capt', 'Col','Don', 'Dr',\\\n",
    "                                            'Major', 'Rev', 'Sir', 'Jonkheer', 'Dona'], 'Rare')\n",
    "train['Title'] = train['Title'].replace('Mlle', 'Miss')\n",
    "train['Title'] = train['Title'].replace('Ms', 'Miss')\n",
    "train['Title'] = train['Title'].replace('Mme', 'Mrs')\n",
    " \n",
    "train['Title'] = train['Title'].map(titles)\n",
    "train['Title'] = train['Title'].fillna(0)"
   ]
  },
  {
   "cell_type": "code",
   "execution_count": 370,
   "metadata": {},
   "outputs": [
    {
     "name": "stderr",
     "output_type": "stream",
     "text": [
      "/Users/joaoeira/opt/anaconda3/lib/python3.7/site-packages/ipykernel_launcher.py:13: SettingWithCopyWarning: \n",
      "A value is trying to be set on a copy of a slice from a DataFrame.\n",
      "Try using .loc[row_indexer,col_indexer] = value instead\n",
      "\n",
      "See the caveats in the documentation: https://pandas.pydata.org/pandas-docs/stable/user_guide/indexing.html#returning-a-view-versus-a-copy\n",
      "  del sys.path[0]\n",
      "/Users/joaoeira/opt/anaconda3/lib/python3.7/site-packages/ipykernel_launcher.py:14: SettingWithCopyWarning: \n",
      "A value is trying to be set on a copy of a slice from a DataFrame.\n",
      "Try using .loc[row_indexer,col_indexer] = value instead\n",
      "\n",
      "See the caveats in the documentation: https://pandas.pydata.org/pandas-docs/stable/user_guide/indexing.html#returning-a-view-versus-a-copy\n",
      "  \n"
     ]
    }
   ],
   "source": [
    "for value in train.Title.unique():\n",
    "    df = train[train.Title==value]\n",
    "    mean = df['Age'].mean()\n",
    "    std = df['Age'].std()\n",
    "    is_null = df['Age'].isnull().sum()\n",
    "    \n",
    "    # compute random numbers between the mean, std and is_null\n",
    "    rand_age = np.random.randint(mean - std, mean + std, size = is_null)\n",
    "\n",
    "    # fill NaN values in Age column with random values generated\n",
    "    age_slice = df['Age'].copy()\n",
    "    age_slice[np.isnan(age_slice)] = rand_age\n",
    "    df['Age'] = age_slice\n",
    "    df['Age'] = df['Age'].astype(int)\n",
    "    train.loc[train.Title==value,'Age'] = df.Age"
   ]
  },
  {
   "cell_type": "code",
   "execution_count": 371,
   "metadata": {},
   "outputs": [],
   "source": [
    "test.Sex = test.Sex.replace(['female','male'],[0,1])\n",
    "test.Embarked = test.Embarked.replace(['S','C','Q'],[0,1,2])\n",
    "test = test[test.Embarked.notna()]\n",
    "test.Cabin.fillna('U', inplace=True)\n",
    "test['Deck'] = test.Cabin.str.slice(0,1)\n",
    "test.Deck = test.Deck.replace(['U','C','E','G','D','A','B','F','T'],[0,1,2,3,4,5,6,7,8])"
   ]
  },
  {
   "cell_type": "code",
   "execution_count": 372,
   "metadata": {},
   "outputs": [],
   "source": [
    "test['Title'] = test.Name.str.extract(' ([A-Za-z]+)\\.', expand=False)\n",
    "test['Title'] = test['Title'].replace(['Lady', 'Countess','Capt', 'Col','Don', 'Dr',\\\n",
    "                                            'Major', 'Rev', 'Sir', 'Jonkheer', 'Dona'], 'Rare')\n",
    "test['Title'] = test['Title'].replace('Mlle', 'Miss')\n",
    "test['Title'] = test['Title'].replace('Ms', 'Miss')\n",
    "test['Title'] = test['Title'].replace('Mme', 'Mrs')\n",
    " \n",
    "test['Title'] = test['Title'].map(titles)\n",
    "test['Title'] = test['Title'].fillna(0)"
   ]
  },
  {
   "cell_type": "code",
   "execution_count": 373,
   "metadata": {},
   "outputs": [
    {
     "name": "stderr",
     "output_type": "stream",
     "text": [
      "/Users/joaoeira/opt/anaconda3/lib/python3.7/site-packages/ipykernel_launcher.py:13: SettingWithCopyWarning: \n",
      "A value is trying to be set on a copy of a slice from a DataFrame.\n",
      "Try using .loc[row_indexer,col_indexer] = value instead\n",
      "\n",
      "See the caveats in the documentation: https://pandas.pydata.org/pandas-docs/stable/user_guide/indexing.html#returning-a-view-versus-a-copy\n",
      "  del sys.path[0]\n",
      "/Users/joaoeira/opt/anaconda3/lib/python3.7/site-packages/ipykernel_launcher.py:14: SettingWithCopyWarning: \n",
      "A value is trying to be set on a copy of a slice from a DataFrame.\n",
      "Try using .loc[row_indexer,col_indexer] = value instead\n",
      "\n",
      "See the caveats in the documentation: https://pandas.pydata.org/pandas-docs/stable/user_guide/indexing.html#returning-a-view-versus-a-copy\n",
      "  \n"
     ]
    }
   ],
   "source": [
    "for value in test.Title.unique():\n",
    "    df = test[test.Title==value]\n",
    "    mean = df['Age'].mean()\n",
    "    std = df['Age'].std()\n",
    "    is_null = df['Age'].isnull().sum()\n",
    "    \n",
    "    # compute random numbers between the mean, std and is_null\n",
    "    rand_age = np.random.randint(mean - std, mean + std, size = is_null)\n",
    "\n",
    "    # fill NaN values in Age column with random values generated\n",
    "    age_slice = df['Age'].copy()\n",
    "    age_slice[np.isnan(age_slice)] = rand_age\n",
    "    df['Age'] = age_slice\n",
    "    df['Age'] = df['Age'].astype(int)\n",
    "    test.loc[test.Title==value,'Age'] = df.Age"
   ]
  },
  {
   "cell_type": "code",
   "execution_count": 390,
   "metadata": {},
   "outputs": [
    {
     "data": {
      "text/plain": [
       "PassengerId        0\n",
       "Pclass             0\n",
       "Name               0\n",
       "Sex                0\n",
       "Age                0\n",
       "SibSp              0\n",
       "Parch              0\n",
       "Ticket             0\n",
       "Fare               0\n",
       "Cabin              0\n",
       "Embarked           0\n",
       "Deck               0\n",
       "Title              0\n",
       "relatives          0\n",
       "not_alone          0\n",
       "Age_Class          0\n",
       "Fare_Per_Person    0\n",
       "Survived           0\n",
       "dtype: int64"
      ]
     },
     "execution_count": 390,
     "metadata": {},
     "output_type": "execute_result"
    }
   ],
   "source": [
    "test.isna().sum()"
   ]
  },
  {
   "cell_type": "code",
   "execution_count": null,
   "metadata": {},
   "outputs": [],
   "source": [
    "med_fare = train.groupby(['Pclass', 'Parch', 'SibSp']).Fare.median()[3][0][0]\n",
    "# Filling the missing value in Fare with the median Fare of 3rd class alone passenger\n",
    "train.Fare = train.Fare.fillna(med_fare)"
   ]
  },
  {
   "cell_type": "code",
   "execution_count": null,
   "metadata": {},
   "outputs": [],
   "source": [
    "# Passenger in the T deck is changed to A\n",
    "idx = train[train.Deck == 'T'].index\n",
    "train.loc[idx, 'Deck'] = 'A'\n",
    "\n",
    "train['Deck'] = train['Deck'].replace(['A', 'B', 'C'], 'ABC')\n",
    "train['Deck'] = train['Deck'].replace(['D', 'E'], 'DE')\n",
    "train['Deck'] = train['Deck'].replace(['F', 'G'], 'FG')\n",
    "\n",
    "train['Deck'].value_counts()"
   ]
  },
  {
   "cell_type": "code",
   "execution_count": null,
   "metadata": {},
   "outputs": [],
   "source": [
    "test['Deck'] = test['Deck'].replace(['A', 'B', 'C'], 'ABC')\n",
    "test['Deck'] = test['Deck'].replace(['D', 'E'], 'DE')\n",
    "test['Deck'] = test['Deck'].replace(['F', 'G'], 'FG')\n",
    "\n",
    "test['Deck'].value_counts()"
   ]
  },
  {
   "cell_type": "code",
   "execution_count": 374,
   "metadata": {},
   "outputs": [],
   "source": [
    "data = [train, test]\n",
    "for dataset in data:\n",
    "    dataset['relatives'] = dataset['SibSp'] + dataset['Parch']\n",
    "    dataset.loc[dataset['relatives'] > 0, 'not_alone'] = 0\n",
    "    dataset.loc[dataset['relatives'] == 0, 'not_alone'] = 1\n",
    "    dataset['not_alone'] = dataset['not_alone'].astype(int)\n",
    "\n",
    "    dataset['Fare'] = dataset['Fare'].fillna(0)\n",
    "    dataset['Fare'] = dataset['Fare'].astype(int)\n",
    "    \n",
    "    dataset['Age'] = dataset['Age'].astype(int)\n",
    "    dataset.loc[ dataset['Age'] <= 11, 'Age'] = 0\n",
    "    dataset.loc[(dataset['Age'] > 11) & (dataset['Age'] <= 18), 'Age'] = 1\n",
    "    dataset.loc[(dataset['Age'] > 18) & (dataset['Age'] <= 22), 'Age'] = 2\n",
    "    dataset.loc[(dataset['Age'] > 22) & (dataset['Age'] <= 27), 'Age'] = 3\n",
    "    dataset.loc[(dataset['Age'] > 27) & (dataset['Age'] <= 33), 'Age'] = 4\n",
    "    dataset.loc[(dataset['Age'] > 33) & (dataset['Age'] <= 40), 'Age'] = 5\n",
    "    dataset.loc[(dataset['Age'] > 40) & (dataset['Age'] <= 66), 'Age'] = 6\n",
    "    dataset.loc[ dataset['Age'] > 66, 'Age'] = 6\n",
    "\n",
    "    dataset.loc[ dataset['Fare'] <= 7.91, 'Fare'] = 0\n",
    "    dataset.loc[(dataset['Fare'] > 7.91) & (dataset['Fare'] <= 14.454), 'Fare'] = 1\n",
    "    dataset.loc[(dataset['Fare'] > 14.454) & (dataset['Fare'] <= 31), 'Fare']   = 2\n",
    "    dataset.loc[(dataset['Fare'] > 31) & (dataset['Fare'] <= 99), 'Fare']   = 3\n",
    "    dataset.loc[(dataset['Fare'] > 99) & (dataset['Fare'] <= 250), 'Fare']   = 4\n",
    "    dataset.loc[ dataset['Fare'] > 250, 'Fare'] = 5\n",
    "    dataset['Fare'] = dataset['Fare'].astype(int)\n",
    "    \n",
    "    dataset['Age_Class']= dataset['Age']* dataset['Pclass']\n",
    "    \n",
    "    dataset['Fare_Per_Person'] = dataset['Fare']/(dataset['relatives']+1)\n",
    "    dataset['Fare_Per_Person'] = dataset['Fare_Per_Person'].astype(int)\n",
    "    \n",
    "    dataset['Ticket_Frequency'] = dataset.groupby('Ticket')['Ticket'].transform('count')\n",
    "    \n",
    "    dataset['Is_Married'] = 0\n",
    "    dataset['Is_Married'].loc[dataset['Title'] == 'Mrs'] = 1"
   ]
  },
  {
   "cell_type": "code",
   "execution_count": 375,
   "metadata": {},
   "outputs": [],
   "source": [
    "X_train = train.loc[:,['Pclass','Sex','SibSp','Parch','Fare','Embarked', 'Age','Title','Deck','relatives','not_alone','Age_Class','Fare_Per_Person']]\n",
    "y_train = train['Survived']\n",
    "\n",
    "X_test = test.loc[:,['Pclass','Sex','SibSp','Parch','Fare','Embarked', 'Age', 'Title','Deck','relatives','not_alone','Age_Class','Fare_Per_Person']]"
   ]
  },
  {
   "cell_type": "raw",
   "metadata": {},
   "source": [
    "models = {('knn',KNeighborsClassifier()):{'n_neighbors':[2,3,4,5,6,7,8,9,10,20]},\n",
    "          ('logit', LogisticRegression()):{'random_state':[0],'C':[0.01,0.02,0.05,0.1,0.5,1,5,10,50,100]},\n",
    "          ('DecTree',DecisionTreeClassifier()):{'random_state':[0],'max_depth':[None,10,50,100,200],\n",
    "                                                'max_features':[None,'auto'],\n",
    "                                                'ccp_alpha':[0.0,0.01,0.1,0.5,1,10,100]},\n",
    "          ('RForest',RandomForestClassifier()):{'random_state':[0],'max_depth':[None,100],\n",
    "                                                'max_features':[None,100],\n",
    "                                                'ccp_alpha':[0,0.01],\n",
    "                                                'warm_start':[True,False],\n",
    "                                                'n_estimators': [150,300],\n",
    "                                                'max_samples': [None,100]}, \n",
    "          ('GBoost',GradientBoostingClassifier()):{'random_state':[0],'max_depth':[None],\n",
    "                                                'max_features':[None],\n",
    "                                                'ccp_alpha':[0.0,0.1],\n",
    "                                                'warm_start':[True],\n",
    "                                                'n_estimators': [100,300],\n",
    "                                                'learning_rate':[0.01,0.1],\n",
    "                                                'loss':['deviance', 'exponential'],\n",
    "                                                'subsample':[1]},      \n",
    "          ('svc', SVC()):{'random_state':[0],'kernel':['linear', 'rbf'],  \n",
    "                         'gamma': ['scale','auto',0.1,1],\n",
    "                         'C': [0.1,1,10]}}\n",
    "\n",
    "for (modelname,model), parameters in models.items():\n",
    "    ml_fit_eval(X_train,y_train,X_test,y_test, model,parameters,modelname)"
   ]
  },
  {
   "cell_type": "code",
   "execution_count": 376,
   "metadata": {},
   "outputs": [
    {
     "name": "stderr",
     "output_type": "stream",
     "text": [
      "[Parallel(n_jobs=1)]: Using backend SequentialBackend with 1 concurrent workers.\n"
     ]
    },
    {
     "name": "stdout",
     "output_type": "stream",
     "text": [
      "Fitting 10 folds for each of 2 candidates, totalling 20 fits\n",
      "[CV] ccp_alpha=0, max_depth=None, max_features=None, max_samples=100, n_estimators=300, random_state=0, warm_start=True \n",
      "[CV]  ccp_alpha=0, max_depth=None, max_features=None, max_samples=100, n_estimators=300, random_state=0, warm_start=True, total=   0.5s\n",
      "[CV] ccp_alpha=0, max_depth=None, max_features=None, max_samples=100, n_estimators=300, random_state=0, warm_start=True \n"
     ]
    },
    {
     "name": "stderr",
     "output_type": "stream",
     "text": [
      "[Parallel(n_jobs=1)]: Done   1 out of   1 | elapsed:    0.5s remaining:    0.0s\n"
     ]
    },
    {
     "name": "stdout",
     "output_type": "stream",
     "text": [
      "[CV]  ccp_alpha=0, max_depth=None, max_features=None, max_samples=100, n_estimators=300, random_state=0, warm_start=True, total=   0.9s\n",
      "[CV] ccp_alpha=0, max_depth=None, max_features=None, max_samples=100, n_estimators=300, random_state=0, warm_start=True \n",
      "[CV]  ccp_alpha=0, max_depth=None, max_features=None, max_samples=100, n_estimators=300, random_state=0, warm_start=True, total=   0.6s\n",
      "[CV] ccp_alpha=0, max_depth=None, max_features=None, max_samples=100, n_estimators=300, random_state=0, warm_start=True \n",
      "[CV]  ccp_alpha=0, max_depth=None, max_features=None, max_samples=100, n_estimators=300, random_state=0, warm_start=True, total=   0.5s\n",
      "[CV] ccp_alpha=0, max_depth=None, max_features=None, max_samples=100, n_estimators=300, random_state=0, warm_start=True \n",
      "[CV]  ccp_alpha=0, max_depth=None, max_features=None, max_samples=100, n_estimators=300, random_state=0, warm_start=True, total=   0.8s\n",
      "[CV] ccp_alpha=0, max_depth=None, max_features=None, max_samples=100, n_estimators=300, random_state=0, warm_start=True \n",
      "[CV]  ccp_alpha=0, max_depth=None, max_features=None, max_samples=100, n_estimators=300, random_state=0, warm_start=True, total=   1.0s\n",
      "[CV] ccp_alpha=0, max_depth=None, max_features=None, max_samples=100, n_estimators=300, random_state=0, warm_start=True \n",
      "[CV]  ccp_alpha=0, max_depth=None, max_features=None, max_samples=100, n_estimators=300, random_state=0, warm_start=True, total=   0.9s\n",
      "[CV] ccp_alpha=0, max_depth=None, max_features=None, max_samples=100, n_estimators=300, random_state=0, warm_start=True \n",
      "[CV]  ccp_alpha=0, max_depth=None, max_features=None, max_samples=100, n_estimators=300, random_state=0, warm_start=True, total=   0.5s\n",
      "[CV] ccp_alpha=0, max_depth=None, max_features=None, max_samples=100, n_estimators=300, random_state=0, warm_start=True \n",
      "[CV]  ccp_alpha=0, max_depth=None, max_features=None, max_samples=100, n_estimators=300, random_state=0, warm_start=True, total=   0.5s\n",
      "[CV] ccp_alpha=0, max_depth=None, max_features=None, max_samples=100, n_estimators=300, random_state=0, warm_start=True \n",
      "[CV]  ccp_alpha=0, max_depth=None, max_features=None, max_samples=100, n_estimators=300, random_state=0, warm_start=True, total=   0.5s\n",
      "[CV] ccp_alpha=0, max_depth=None, max_features=5, max_samples=100, n_estimators=300, random_state=0, warm_start=True \n",
      "[CV]  ccp_alpha=0, max_depth=None, max_features=5, max_samples=100, n_estimators=300, random_state=0, warm_start=True, total=   0.6s\n",
      "[CV] ccp_alpha=0, max_depth=None, max_features=5, max_samples=100, n_estimators=300, random_state=0, warm_start=True \n",
      "[CV]  ccp_alpha=0, max_depth=None, max_features=5, max_samples=100, n_estimators=300, random_state=0, warm_start=True, total=   0.5s\n",
      "[CV] ccp_alpha=0, max_depth=None, max_features=5, max_samples=100, n_estimators=300, random_state=0, warm_start=True \n",
      "[CV]  ccp_alpha=0, max_depth=None, max_features=5, max_samples=100, n_estimators=300, random_state=0, warm_start=True, total=   0.5s\n",
      "[CV] ccp_alpha=0, max_depth=None, max_features=5, max_samples=100, n_estimators=300, random_state=0, warm_start=True \n",
      "[CV]  ccp_alpha=0, max_depth=None, max_features=5, max_samples=100, n_estimators=300, random_state=0, warm_start=True, total=   1.1s\n",
      "[CV] ccp_alpha=0, max_depth=None, max_features=5, max_samples=100, n_estimators=300, random_state=0, warm_start=True \n",
      "[CV]  ccp_alpha=0, max_depth=None, max_features=5, max_samples=100, n_estimators=300, random_state=0, warm_start=True, total=   0.8s\n",
      "[CV] ccp_alpha=0, max_depth=None, max_features=5, max_samples=100, n_estimators=300, random_state=0, warm_start=True \n",
      "[CV]  ccp_alpha=0, max_depth=None, max_features=5, max_samples=100, n_estimators=300, random_state=0, warm_start=True, total=   0.6s\n",
      "[CV] ccp_alpha=0, max_depth=None, max_features=5, max_samples=100, n_estimators=300, random_state=0, warm_start=True \n",
      "[CV]  ccp_alpha=0, max_depth=None, max_features=5, max_samples=100, n_estimators=300, random_state=0, warm_start=True, total=   0.5s\n",
      "[CV] ccp_alpha=0, max_depth=None, max_features=5, max_samples=100, n_estimators=300, random_state=0, warm_start=True \n",
      "[CV]  ccp_alpha=0, max_depth=None, max_features=5, max_samples=100, n_estimators=300, random_state=0, warm_start=True, total=   0.5s\n",
      "[CV] ccp_alpha=0, max_depth=None, max_features=5, max_samples=100, n_estimators=300, random_state=0, warm_start=True \n",
      "[CV]  ccp_alpha=0, max_depth=None, max_features=5, max_samples=100, n_estimators=300, random_state=0, warm_start=True, total=   0.5s\n",
      "[CV] ccp_alpha=0, max_depth=None, max_features=5, max_samples=100, n_estimators=300, random_state=0, warm_start=True \n",
      "[CV]  ccp_alpha=0, max_depth=None, max_features=5, max_samples=100, n_estimators=300, random_state=0, warm_start=True, total=   0.6s\n"
     ]
    },
    {
     "name": "stderr",
     "output_type": "stream",
     "text": [
      "[Parallel(n_jobs=1)]: Done  20 out of  20 | elapsed:   12.9s finished\n"
     ]
    },
    {
     "name": "stdout",
     "output_type": "stream",
     "text": [
      "RForest Optimal Parameters :        {'ccp_alpha': 0, 'max_depth': None, 'max_features': None, 'max_samples': 100, 'n_estimators': 300, 'random_state': 0, 'warm_start': True}\n",
      "RForest Cross Validation Accuracy:  83.58 % \n",
      "\n"
     ]
    },
    {
     "ename": "ValueError",
     "evalue": "Found input variables with inconsistent numbers of samples: [251, 418]",
     "output_type": "error",
     "traceback": [
      "\u001b[0;31m---------------------------------------------------------------------------\u001b[0m",
      "\u001b[0;31mValueError\u001b[0m                                Traceback (most recent call last)",
      "\u001b[0;32m<ipython-input-376-da6df118dca2>\u001b[0m in \u001b[0;36m<module>\u001b[0;34m\u001b[0m\n\u001b[1;32m      6\u001b[0m \u001b[0;34m\u001b[0m\u001b[0m\n\u001b[1;32m      7\u001b[0m \u001b[0;32mfor\u001b[0m \u001b[0;34m(\u001b[0m\u001b[0mmodelname\u001b[0m\u001b[0;34m,\u001b[0m\u001b[0mmodel\u001b[0m\u001b[0;34m)\u001b[0m\u001b[0;34m,\u001b[0m \u001b[0mparameters\u001b[0m \u001b[0;32min\u001b[0m \u001b[0mmodels\u001b[0m\u001b[0;34m.\u001b[0m\u001b[0mitems\u001b[0m\u001b[0;34m(\u001b[0m\u001b[0;34m)\u001b[0m\u001b[0;34m:\u001b[0m\u001b[0;34m\u001b[0m\u001b[0;34m\u001b[0m\u001b[0m\n\u001b[0;32m----> 8\u001b[0;31m     \u001b[0mml_fit_eval\u001b[0m\u001b[0;34m(\u001b[0m\u001b[0mX_train\u001b[0m\u001b[0;34m,\u001b[0m\u001b[0my_train\u001b[0m\u001b[0;34m,\u001b[0m\u001b[0mX_test\u001b[0m\u001b[0;34m,\u001b[0m\u001b[0my_test\u001b[0m\u001b[0;34m,\u001b[0m \u001b[0mmodel\u001b[0m\u001b[0;34m,\u001b[0m\u001b[0mparameters\u001b[0m\u001b[0;34m,\u001b[0m\u001b[0mmodelname\u001b[0m\u001b[0;34m)\u001b[0m\u001b[0;34m\u001b[0m\u001b[0;34m\u001b[0m\u001b[0m\n\u001b[0m",
      "\u001b[0;32m<ipython-input-362-eaacdc3c47b9>\u001b[0m in \u001b[0;36mml_fit_eval\u001b[0;34m(X_train, y_train, X_test, y_test, model, parameters, modelname)\u001b[0m\n\u001b[1;32m     13\u001b[0m     \u001b[0mprint\u001b[0m\u001b[0;34m(\u001b[0m\u001b[0mmodelname\u001b[0m \u001b[0;34m,\u001b[0m\u001b[0;34m'Cross Validation Accuracy: '\u001b[0m\u001b[0;34m,\u001b[0m \u001b[0mround\u001b[0m\u001b[0;34m(\u001b[0m\u001b[0mmodel\u001b[0m\u001b[0;34m.\u001b[0m\u001b[0mcv_results_\u001b[0m \u001b[0;34m[\u001b[0m\u001b[0;34m'mean_test_score'\u001b[0m\u001b[0;34m]\u001b[0m \u001b[0;34m[\u001b[0m\u001b[0mnp\u001b[0m\u001b[0;34m.\u001b[0m\u001b[0margmin\u001b[0m\u001b[0;34m(\u001b[0m\u001b[0mmodel\u001b[0m\u001b[0;34m.\u001b[0m\u001b[0mcv_results_\u001b[0m\u001b[0;34m[\u001b[0m\u001b[0;34m'rank_test_score'\u001b[0m\u001b[0;34m]\u001b[0m\u001b[0;34m)\u001b[0m\u001b[0;34m]\u001b[0m\u001b[0;34m*\u001b[0m\u001b[0;36m100\u001b[0m\u001b[0;34m,\u001b[0m\u001b[0;36m2\u001b[0m\u001b[0;34m)\u001b[0m\u001b[0;34m,\u001b[0m \u001b[0;34m'%'\u001b[0m\u001b[0;34m,\u001b[0m \u001b[0;34m'\\n'\u001b[0m\u001b[0;34m)\u001b[0m\u001b[0;34m\u001b[0m\u001b[0;34m\u001b[0m\u001b[0m\n\u001b[1;32m     14\u001b[0m \u001b[0;34m\u001b[0m\u001b[0m\n\u001b[0;32m---> 15\u001b[0;31m     \u001b[0mprint\u001b[0m\u001b[0;34m(\u001b[0m\u001b[0mmodelname\u001b[0m \u001b[0;34m,\u001b[0m\u001b[0;34m'Accuracy:  '\u001b[0m\u001b[0;34m,\u001b[0m \u001b[0mround\u001b[0m\u001b[0;34m(\u001b[0m\u001b[0maccuracy_score\u001b[0m\u001b[0;34m(\u001b[0m\u001b[0my_test\u001b[0m\u001b[0;34m,\u001b[0m \u001b[0my_pred\u001b[0m\u001b[0;34m)\u001b[0m \u001b[0;34m*\u001b[0m \u001b[0;36m100\u001b[0m\u001b[0;34m,\u001b[0m\u001b[0;36m4\u001b[0m\u001b[0;34m)\u001b[0m \u001b[0;34m,\u001b[0m \u001b[0;34m'%'\u001b[0m\u001b[0;34m)\u001b[0m\u001b[0;34m\u001b[0m\u001b[0;34m\u001b[0m\u001b[0m\n\u001b[0m\u001b[1;32m     16\u001b[0m     \u001b[0mprint\u001b[0m\u001b[0;34m(\u001b[0m\u001b[0mmodelname\u001b[0m \u001b[0;34m,\u001b[0m\u001b[0;34m'Precision: '\u001b[0m\u001b[0;34m,\u001b[0m \u001b[0mround\u001b[0m\u001b[0;34m(\u001b[0m\u001b[0mprecision_score\u001b[0m\u001b[0;34m(\u001b[0m\u001b[0my_test\u001b[0m\u001b[0;34m,\u001b[0m\u001b[0my_pred\u001b[0m\u001b[0;34m)\u001b[0m \u001b[0;34m*\u001b[0m\u001b[0;36m100\u001b[0m\u001b[0;34m,\u001b[0m\u001b[0;36m4\u001b[0m\u001b[0;34m)\u001b[0m\u001b[0;34m,\u001b[0m \u001b[0;34m'%'\u001b[0m\u001b[0;34m)\u001b[0m\u001b[0;34m\u001b[0m\u001b[0;34m\u001b[0m\u001b[0m\n\u001b[1;32m     17\u001b[0m     \u001b[0mprint\u001b[0m\u001b[0;34m(\u001b[0m\u001b[0mmodelname\u001b[0m \u001b[0;34m,\u001b[0m\u001b[0;34m'Recall:    '\u001b[0m\u001b[0;34m,\u001b[0m \u001b[0mround\u001b[0m\u001b[0;34m(\u001b[0m\u001b[0mrecall_score\u001b[0m\u001b[0;34m(\u001b[0m\u001b[0my_test\u001b[0m\u001b[0;34m,\u001b[0m\u001b[0my_pred\u001b[0m\u001b[0;34m)\u001b[0m \u001b[0;34m*\u001b[0m\u001b[0;36m100\u001b[0m\u001b[0;34m,\u001b[0m\u001b[0;36m4\u001b[0m\u001b[0;34m)\u001b[0m\u001b[0;34m,\u001b[0m \u001b[0;34m'%'\u001b[0m\u001b[0;34m)\u001b[0m\u001b[0;34m\u001b[0m\u001b[0;34m\u001b[0m\u001b[0m\n",
      "\u001b[0;32m~/opt/anaconda3/lib/python3.7/site-packages/sklearn/metrics/_classification.py\u001b[0m in \u001b[0;36maccuracy_score\u001b[0;34m(y_true, y_pred, normalize, sample_weight)\u001b[0m\n\u001b[1;32m    183\u001b[0m \u001b[0;34m\u001b[0m\u001b[0m\n\u001b[1;32m    184\u001b[0m     \u001b[0;31m# Compute accuracy for each possible representation\u001b[0m\u001b[0;34m\u001b[0m\u001b[0;34m\u001b[0m\u001b[0;34m\u001b[0m\u001b[0m\n\u001b[0;32m--> 185\u001b[0;31m     \u001b[0my_type\u001b[0m\u001b[0;34m,\u001b[0m \u001b[0my_true\u001b[0m\u001b[0;34m,\u001b[0m \u001b[0my_pred\u001b[0m \u001b[0;34m=\u001b[0m \u001b[0m_check_targets\u001b[0m\u001b[0;34m(\u001b[0m\u001b[0my_true\u001b[0m\u001b[0;34m,\u001b[0m \u001b[0my_pred\u001b[0m\u001b[0;34m)\u001b[0m\u001b[0;34m\u001b[0m\u001b[0;34m\u001b[0m\u001b[0m\n\u001b[0m\u001b[1;32m    186\u001b[0m     \u001b[0mcheck_consistent_length\u001b[0m\u001b[0;34m(\u001b[0m\u001b[0my_true\u001b[0m\u001b[0;34m,\u001b[0m \u001b[0my_pred\u001b[0m\u001b[0;34m,\u001b[0m \u001b[0msample_weight\u001b[0m\u001b[0;34m)\u001b[0m\u001b[0;34m\u001b[0m\u001b[0;34m\u001b[0m\u001b[0m\n\u001b[1;32m    187\u001b[0m     \u001b[0;32mif\u001b[0m \u001b[0my_type\u001b[0m\u001b[0;34m.\u001b[0m\u001b[0mstartswith\u001b[0m\u001b[0;34m(\u001b[0m\u001b[0;34m'multilabel'\u001b[0m\u001b[0;34m)\u001b[0m\u001b[0;34m:\u001b[0m\u001b[0;34m\u001b[0m\u001b[0;34m\u001b[0m\u001b[0m\n",
      "\u001b[0;32m~/opt/anaconda3/lib/python3.7/site-packages/sklearn/metrics/_classification.py\u001b[0m in \u001b[0;36m_check_targets\u001b[0;34m(y_true, y_pred)\u001b[0m\n\u001b[1;32m     78\u001b[0m     \u001b[0my_pred\u001b[0m \u001b[0;34m:\u001b[0m \u001b[0marray\u001b[0m \u001b[0;32mor\u001b[0m \u001b[0mindicator\u001b[0m \u001b[0mmatrix\u001b[0m\u001b[0;34m\u001b[0m\u001b[0;34m\u001b[0m\u001b[0m\n\u001b[1;32m     79\u001b[0m     \"\"\"\n\u001b[0;32m---> 80\u001b[0;31m     \u001b[0mcheck_consistent_length\u001b[0m\u001b[0;34m(\u001b[0m\u001b[0my_true\u001b[0m\u001b[0;34m,\u001b[0m \u001b[0my_pred\u001b[0m\u001b[0;34m)\u001b[0m\u001b[0;34m\u001b[0m\u001b[0;34m\u001b[0m\u001b[0m\n\u001b[0m\u001b[1;32m     81\u001b[0m     \u001b[0mtype_true\u001b[0m \u001b[0;34m=\u001b[0m \u001b[0mtype_of_target\u001b[0m\u001b[0;34m(\u001b[0m\u001b[0my_true\u001b[0m\u001b[0;34m)\u001b[0m\u001b[0;34m\u001b[0m\u001b[0;34m\u001b[0m\u001b[0m\n\u001b[1;32m     82\u001b[0m     \u001b[0mtype_pred\u001b[0m \u001b[0;34m=\u001b[0m \u001b[0mtype_of_target\u001b[0m\u001b[0;34m(\u001b[0m\u001b[0my_pred\u001b[0m\u001b[0;34m)\u001b[0m\u001b[0;34m\u001b[0m\u001b[0;34m\u001b[0m\u001b[0m\n",
      "\u001b[0;32m~/opt/anaconda3/lib/python3.7/site-packages/sklearn/utils/validation.py\u001b[0m in \u001b[0;36mcheck_consistent_length\u001b[0;34m(*arrays)\u001b[0m\n\u001b[1;32m    210\u001b[0m     \u001b[0;32mif\u001b[0m \u001b[0mlen\u001b[0m\u001b[0;34m(\u001b[0m\u001b[0muniques\u001b[0m\u001b[0;34m)\u001b[0m \u001b[0;34m>\u001b[0m \u001b[0;36m1\u001b[0m\u001b[0;34m:\u001b[0m\u001b[0;34m\u001b[0m\u001b[0;34m\u001b[0m\u001b[0m\n\u001b[1;32m    211\u001b[0m         raise ValueError(\"Found input variables with inconsistent numbers of\"\n\u001b[0;32m--> 212\u001b[0;31m                          \" samples: %r\" % [int(l) for l in lengths])\n\u001b[0m\u001b[1;32m    213\u001b[0m \u001b[0;34m\u001b[0m\u001b[0m\n\u001b[1;32m    214\u001b[0m \u001b[0;34m\u001b[0m\u001b[0m\n",
      "\u001b[0;31mValueError\u001b[0m: Found input variables with inconsistent numbers of samples: [251, 418]"
     ]
    }
   ],
   "source": [
    "models = {('RForest',RandomForestClassifier()):{'random_state':[0],'max_depth':[None],'max_features':[None,5],\n",
    "                                                'ccp_alpha':[0],\n",
    "                                                'warm_start':[True],\n",
    "                                                'n_estimators': [300],\n",
    "                                                'max_samples': [100]}}\n",
    "\n",
    "for (modelname,model), parameters in models.items():\n",
    "    ml_fit_eval(X_train,y_train,X_test,y_test, model,parameters,modelname)"
   ]
  },
  {
   "cell_type": "code",
   "execution_count": 388,
   "metadata": {},
   "outputs": [
    {
     "data": {
      "text/plain": [
       "0.8627671541057368"
      ]
     },
     "execution_count": 388,
     "metadata": {},
     "output_type": "execute_result"
    }
   ],
   "source": [
    "sc = StandardScaler()\n",
    "X_train = sc.fit_transform(X_train)\n",
    "X_test = sc.transform(X_test)\n",
    "\n",
    "rfc = RandomForestClassifier(oob_score=True,random_state=10, max_depth = None, max_features = 5, ccp_alpha = 0,\n",
    "                             warm_start = True, n_estimators = 300, max_samples=100).fit(X_train,y_train)\n",
    "\n",
    "rfc.score(X_train,y_train)"
   ]
  },
  {
   "cell_type": "code",
   "execution_count": 389,
   "metadata": {},
   "outputs": [
    {
     "name": "stdout",
     "output_type": "stream",
     "text": [
      "oob score: 83.69 %\n"
     ]
    }
   ],
   "source": [
    "print(\"oob score:\", round(rfc.oob_score_, 4)*100, \"%\")"
   ]
  },
  {
   "cell_type": "code",
   "execution_count": 382,
   "metadata": {},
   "outputs": [],
   "source": [
    "y_pred = logit.predict(X_test)"
   ]
  },
  {
   "cell_type": "code",
   "execution_count": 383,
   "metadata": {},
   "outputs": [
    {
     "data": {
      "text/plain": [
       "(418,)"
      ]
     },
     "execution_count": 383,
     "metadata": {},
     "output_type": "execute_result"
    }
   ],
   "source": [
    "y_pred.shape"
   ]
  },
  {
   "cell_type": "code",
   "execution_count": 384,
   "metadata": {},
   "outputs": [],
   "source": [
    "test['Survived']=y_pred\n",
    "predictions = test.loc[:,['PassengerId','Survived']]\n",
    "predictions.to_csv('pred.csv',index=False)"
   ]
  },
  {
   "cell_type": "code",
   "execution_count": null,
   "metadata": {},
   "outputs": [],
   "source": [
    "predictions"
   ]
  }
 ],
 "metadata": {
  "kernelspec": {
   "display_name": "Python 3",
   "language": "python",
   "name": "python3"
  },
  "language_info": {
   "codemirror_mode": {
    "name": "ipython",
    "version": 3
   },
   "file_extension": ".py",
   "mimetype": "text/x-python",
   "name": "python",
   "nbconvert_exporter": "python",
   "pygments_lexer": "ipython3",
   "version": "3.7.4"
  }
 },
 "nbformat": 4,
 "nbformat_minor": 4
}
